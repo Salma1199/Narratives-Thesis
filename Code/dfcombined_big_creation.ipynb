{
 "cells": [
  {
   "cell_type": "markdown",
   "metadata": {},
   "source": [
    "## Adjusting for merging new Scraping from Perigon with old pre-2016 articles"
   ]
  },
  {
   "cell_type": "code",
   "execution_count": 1,
   "metadata": {},
   "outputs": [],
   "source": [
    "import os\n",
    "import json\n",
    "import pandas as pd"
   ]
  },
  {
   "cell_type": "code",
   "execution_count": 2,
   "metadata": {},
   "outputs": [],
   "source": [
    "df_combined = pd.read_csv('df_combined_perigon')\n",
    "df_combined_old = pd.read_csv('df_combined_old.csv')"
   ]
  },
  {
   "cell_type": "code",
   "execution_count": 4,
   "metadata": {},
   "outputs": [
    {
     "name": "stdout",
     "output_type": "stream",
     "text": [
      "12054\n",
      "8338\n"
     ]
    }
   ],
   "source": [
    "print(len(df_combined))\n",
    "print(len(df_combined_old))"
   ]
  },
  {
   "cell_type": "code",
   "execution_count": 5,
   "metadata": {},
   "outputs": [],
   "source": [
    "df_combined_old_telegraph = df_combined_old[df_combined_old['outlet']=='telegraph']\n",
    "df_combined_new_telegraph = df_combined[df_combined['outlet']=='telegraph']\n"
   ]
  },
  {
   "cell_type": "code",
   "execution_count": 6,
   "metadata": {},
   "outputs": [
    {
     "data": {
      "text/html": [
       "<div>\n",
       "<style scoped>\n",
       "    .dataframe tbody tr th:only-of-type {\n",
       "        vertical-align: middle;\n",
       "    }\n",
       "\n",
       "    .dataframe tbody tr th {\n",
       "        vertical-align: top;\n",
       "    }\n",
       "\n",
       "    .dataframe thead th {\n",
       "        text-align: right;\n",
       "    }\n",
       "</style>\n",
       "<table border=\"1\" class=\"dataframe\">\n",
       "  <thead>\n",
       "    <tr style=\"text-align: right;\">\n",
       "      <th></th>\n",
       "      <th>date</th>\n",
       "      <th>title</th>\n",
       "      <th>body</th>\n",
       "      <th>outlet</th>\n",
       "      <th>word_count</th>\n",
       "      <th>year</th>\n",
       "      <th>month</th>\n",
       "      <th>title_readability</th>\n",
       "      <th>body_readability</th>\n",
       "    </tr>\n",
       "  </thead>\n",
       "  <tbody>\n",
       "    <tr>\n",
       "      <th>4191</th>\n",
       "      <td>2019-11-21</td>\n",
       "      <td>Boris Johnson can unite the country on immigra...</td>\n",
       "      <td>Democratic politics rewards politicians who c...</td>\n",
       "      <td>telegraph</td>\n",
       "      <td>718</td>\n",
       "      <td>2019.0</td>\n",
       "      <td>2019-11</td>\n",
       "      <td>63.36</td>\n",
       "      <td>44.48</td>\n",
       "    </tr>\n",
       "    <tr>\n",
       "      <th>4192</th>\n",
       "      <td>2023-01-15</td>\n",
       "      <td>Two thirds of tagged Albanian migrants have cu...</td>\n",
       "      <td>Two thirds of the Albanian Channel migrants w...</td>\n",
       "      <td>telegraph</td>\n",
       "      <td>561</td>\n",
       "      <td>2023.0</td>\n",
       "      <td>2023-01</td>\n",
       "      <td>74.19</td>\n",
       "      <td>45.59</td>\n",
       "    </tr>\n",
       "    <tr>\n",
       "      <th>4193</th>\n",
       "      <td>2017-07-09</td>\n",
       "      <td>Armed US immigration officers stationed at Bri...</td>\n",
       "      <td>British holidaymakers visiting the US could b...</td>\n",
       "      <td>telegraph</td>\n",
       "      <td>771</td>\n",
       "      <td>2017.0</td>\n",
       "      <td>2017-07</td>\n",
       "      <td>59.64</td>\n",
       "      <td>50.87</td>\n",
       "    </tr>\n",
       "    <tr>\n",
       "      <th>4194</th>\n",
       "      <td>2021-01-26</td>\n",
       "      <td>Heathrow crowding due to Covid test checks on ...</td>\n",
       "      <td>A row over health risks from Heathrow passpor...</td>\n",
       "      <td>telegraph</td>\n",
       "      <td>396</td>\n",
       "      <td>2021.0</td>\n",
       "      <td>2021-01</td>\n",
       "      <td>76.22</td>\n",
       "      <td>59.67</td>\n",
       "    </tr>\n",
       "    <tr>\n",
       "      <th>4195</th>\n",
       "      <td>2017-10-06</td>\n",
       "      <td>Polish migrant who threatened 'to kill an MP' ...</td>\n",
       "      <td>A Polish migrant who threatened Downing Stree...</td>\n",
       "      <td>telegraph</td>\n",
       "      <td>539</td>\n",
       "      <td>2017.0</td>\n",
       "      <td>2017-10</td>\n",
       "      <td>74.19</td>\n",
       "      <td>66.47</td>\n",
       "    </tr>\n",
       "    <tr>\n",
       "      <th>...</th>\n",
       "      <td>...</td>\n",
       "      <td>...</td>\n",
       "      <td>...</td>\n",
       "      <td>...</td>\n",
       "      <td>...</td>\n",
       "      <td>...</td>\n",
       "      <td>...</td>\n",
       "      <td>...</td>\n",
       "      <td>...</td>\n",
       "    </tr>\n",
       "    <tr>\n",
       "      <th>8333</th>\n",
       "      <td>2020-01-26</td>\n",
       "      <td>Priti Patel says UK firms 'too reliant' on che...</td>\n",
       "      <td>British companies have become far too reliant...</td>\n",
       "      <td>telegraph</td>\n",
       "      <td>716</td>\n",
       "      <td>2020.0</td>\n",
       "      <td>2020-01</td>\n",
       "      <td>49.15</td>\n",
       "      <td>48.37</td>\n",
       "    </tr>\n",
       "    <tr>\n",
       "      <th>8334</th>\n",
       "      <td>2023-07-08</td>\n",
       "      <td>Rishi Sunak is a Conservative Brexiteer doomed...</td>\n",
       "      <td>Let me advance a suggestion that, in the curr...</td>\n",
       "      <td>telegraph</td>\n",
       "      <td>1277</td>\n",
       "      <td>2023.0</td>\n",
       "      <td>2023-07</td>\n",
       "      <td>64.71</td>\n",
       "      <td>62.68</td>\n",
       "    </tr>\n",
       "    <tr>\n",
       "      <th>8335</th>\n",
       "      <td>2024-01-14</td>\n",
       "      <td>Five migrants die in first known Channel cross...</td>\n",
       "      <td>Five migrants have died and a sixth in critic...</td>\n",
       "      <td>telegraph</td>\n",
       "      <td>525</td>\n",
       "      <td>2024.0</td>\n",
       "      <td>2024-01</td>\n",
       "      <td>84.68</td>\n",
       "      <td>58.62</td>\n",
       "    </tr>\n",
       "    <tr>\n",
       "      <th>8336</th>\n",
       "      <td>2018-12-06</td>\n",
       "      <td>Migrant rescue vessel Aquarius ends operations...</td>\n",
       "      <td>The Aquarius migrant rescue ship is to end it...</td>\n",
       "      <td>telegraph</td>\n",
       "      <td>370</td>\n",
       "      <td>2018.0</td>\n",
       "      <td>2018-12</td>\n",
       "      <td>29.52</td>\n",
       "      <td>36.22</td>\n",
       "    </tr>\n",
       "    <tr>\n",
       "      <th>8337</th>\n",
       "      <td>2019-08-12</td>\n",
       "      <td>Guatemala election winner Alejandro Giammattei...</td>\n",
       "      <td>Conservative eternal candidate Alejandro Giam...</td>\n",
       "      <td>telegraph</td>\n",
       "      <td>596</td>\n",
       "      <td>2019.0</td>\n",
       "      <td>2019-08</td>\n",
       "      <td>31.89</td>\n",
       "      <td>52.53</td>\n",
       "    </tr>\n",
       "  </tbody>\n",
       "</table>\n",
       "<p>4147 rows × 9 columns</p>\n",
       "</div>"
      ],
      "text/plain": [
       "            date                                              title  \\\n",
       "4191  2019-11-21  Boris Johnson can unite the country on immigra...   \n",
       "4192  2023-01-15  Two thirds of tagged Albanian migrants have cu...   \n",
       "4193  2017-07-09  Armed US immigration officers stationed at Bri...   \n",
       "4194  2021-01-26  Heathrow crowding due to Covid test checks on ...   \n",
       "4195  2017-10-06  Polish migrant who threatened 'to kill an MP' ...   \n",
       "...          ...                                                ...   \n",
       "8333  2020-01-26  Priti Patel says UK firms 'too reliant' on che...   \n",
       "8334  2023-07-08  Rishi Sunak is a Conservative Brexiteer doomed...   \n",
       "8335  2024-01-14  Five migrants die in first known Channel cross...   \n",
       "8336  2018-12-06  Migrant rescue vessel Aquarius ends operations...   \n",
       "8337  2019-08-12  Guatemala election winner Alejandro Giammattei...   \n",
       "\n",
       "                                                   body     outlet  \\\n",
       "4191   Democratic politics rewards politicians who c...  telegraph   \n",
       "4192   Two thirds of the Albanian Channel migrants w...  telegraph   \n",
       "4193   British holidaymakers visiting the US could b...  telegraph   \n",
       "4194   A row over health risks from Heathrow passpor...  telegraph   \n",
       "4195   A Polish migrant who threatened Downing Stree...  telegraph   \n",
       "...                                                 ...        ...   \n",
       "8333   British companies have become far too reliant...  telegraph   \n",
       "8334   Let me advance a suggestion that, in the curr...  telegraph   \n",
       "8335   Five migrants have died and a sixth in critic...  telegraph   \n",
       "8336   The Aquarius migrant rescue ship is to end it...  telegraph   \n",
       "8337   Conservative eternal candidate Alejandro Giam...  telegraph   \n",
       "\n",
       "      word_count    year    month  title_readability  body_readability  \n",
       "4191         718  2019.0  2019-11              63.36             44.48  \n",
       "4192         561  2023.0  2023-01              74.19             45.59  \n",
       "4193         771  2017.0  2017-07              59.64             50.87  \n",
       "4194         396  2021.0  2021-01              76.22             59.67  \n",
       "4195         539  2017.0  2017-10              74.19             66.47  \n",
       "...          ...     ...      ...                ...               ...  \n",
       "8333         716  2020.0  2020-01              49.15             48.37  \n",
       "8334        1277  2023.0  2023-07              64.71             62.68  \n",
       "8335         525  2024.0  2024-01              84.68             58.62  \n",
       "8336         370  2018.0  2018-12              29.52             36.22  \n",
       "8337         596  2019.0  2019-08              31.89             52.53  \n",
       "\n",
       "[4147 rows x 9 columns]"
      ]
     },
     "execution_count": 6,
     "metadata": {},
     "output_type": "execute_result"
    }
   ],
   "source": [
    "df_combined_old_telegraph"
   ]
  },
  {
   "cell_type": "code",
   "execution_count": 7,
   "metadata": {},
   "outputs": [
    {
     "data": {
      "text/html": [
       "<div>\n",
       "<style scoped>\n",
       "    .dataframe tbody tr th:only-of-type {\n",
       "        vertical-align: middle;\n",
       "    }\n",
       "\n",
       "    .dataframe tbody tr th {\n",
       "        vertical-align: top;\n",
       "    }\n",
       "\n",
       "    .dataframe thead th {\n",
       "        text-align: right;\n",
       "    }\n",
       "</style>\n",
       "<table border=\"1\" class=\"dataframe\">\n",
       "  <thead>\n",
       "    <tr style=\"text-align: right;\">\n",
       "      <th></th>\n",
       "      <th>Unnamed: 0</th>\n",
       "      <th>date</th>\n",
       "      <th>title</th>\n",
       "      <th>body</th>\n",
       "      <th>outlet</th>\n",
       "    </tr>\n",
       "  </thead>\n",
       "  <tbody>\n",
       "    <tr>\n",
       "      <th>6027</th>\n",
       "      <td>6027</td>\n",
       "      <td>2024-01-30 00:00:00</td>\n",
       "      <td>Tuesday evening news briefing: UK population c...</td>\n",
       "      <td>Good evening. Net migration is on course to d...</td>\n",
       "      <td>telegraph</td>\n",
       "    </tr>\n",
       "    <tr>\n",
       "      <th>6028</th>\n",
       "      <td>6028</td>\n",
       "      <td>2023-11-27 00:00:00</td>\n",
       "      <td>Monday evening news briefing: Growth outlook i...</td>\n",
       "      <td>Good evening. Andrew Bailey has said the outl...</td>\n",
       "      <td>telegraph</td>\n",
       "    </tr>\n",
       "    <tr>\n",
       "      <th>6029</th>\n",
       "      <td>6029</td>\n",
       "      <td>NaN</td>\n",
       "      <td>Muslim model Halima Aden: ‘Not even for $10 mi...</td>\n",
       "      <td>Halima Aden, the Hijabi model who appeared on...</td>\n",
       "      <td>telegraph</td>\n",
       "    </tr>\n",
       "    <tr>\n",
       "      <th>6030</th>\n",
       "      <td>6030</td>\n",
       "      <td>NaN</td>\n",
       "      <td>A GP visit has become as random as booking an ...</td>\n",
       "      <td>Remember the days when going to the doctors m...</td>\n",
       "      <td>telegraph</td>\n",
       "    </tr>\n",
       "    <tr>\n",
       "      <th>6031</th>\n",
       "      <td>6031</td>\n",
       "      <td>2020-09-11 00:00:00</td>\n",
       "      <td>Tom Hollander interview: ‘The future of theatr...</td>\n",
       "      <td>Tom Hollander is the consummate showstealer. ...</td>\n",
       "      <td>telegraph</td>\n",
       "    </tr>\n",
       "    <tr>\n",
       "      <th>...</th>\n",
       "      <td>...</td>\n",
       "      <td>...</td>\n",
       "      <td>...</td>\n",
       "      <td>...</td>\n",
       "      <td>...</td>\n",
       "    </tr>\n",
       "    <tr>\n",
       "      <th>12049</th>\n",
       "      <td>12049</td>\n",
       "      <td>2022-11-08 00:00:00</td>\n",
       "      <td>Emmanuel Macron hails new era of 'ambitious co...</td>\n",
       "      <td>Emmanuel Macron agreed to boost joint efforts...</td>\n",
       "      <td>telegraph</td>\n",
       "    </tr>\n",
       "    <tr>\n",
       "      <th>12050</th>\n",
       "      <td>12050</td>\n",
       "      <td>2023-05-14 00:00:00</td>\n",
       "      <td>Suella Braverman challenges Sunak to cut ‘unsu...</td>\n",
       "      <td>Suella Braverman will demand that Rishi Sunak...</td>\n",
       "      <td>telegraph</td>\n",
       "    </tr>\n",
       "    <tr>\n",
       "      <th>12051</th>\n",
       "      <td>12051</td>\n",
       "      <td>2024-03-26 00:00:00</td>\n",
       "      <td>Churches risk undermining asylum system after ...</td>\n",
       "      <td>Churches risk undermining the integrity of th...</td>\n",
       "      <td>telegraph</td>\n",
       "    </tr>\n",
       "    <tr>\n",
       "      <th>12052</th>\n",
       "      <td>12052</td>\n",
       "      <td>2021-04-07 00:00:00</td>\n",
       "      <td>Exclusive: Satellite images reveal how shadowy...</td>\n",
       "      <td>Britain should confront Russian mercenary gro...</td>\n",
       "      <td>telegraph</td>\n",
       "    </tr>\n",
       "    <tr>\n",
       "      <th>12053</th>\n",
       "      <td>12053</td>\n",
       "      <td>2021-10-25 00:00:00</td>\n",
       "      <td>France plans 'go slow' strategy on British lor...</td>\n",
       "      <td>France is preparing to implement a goslow str...</td>\n",
       "      <td>telegraph</td>\n",
       "    </tr>\n",
       "  </tbody>\n",
       "</table>\n",
       "<p>6027 rows × 5 columns</p>\n",
       "</div>"
      ],
      "text/plain": [
       "       Unnamed: 0                 date  \\\n",
       "6027         6027  2024-01-30 00:00:00   \n",
       "6028         6028  2023-11-27 00:00:00   \n",
       "6029         6029                  NaN   \n",
       "6030         6030                  NaN   \n",
       "6031         6031  2020-09-11 00:00:00   \n",
       "...           ...                  ...   \n",
       "12049       12049  2022-11-08 00:00:00   \n",
       "12050       12050  2023-05-14 00:00:00   \n",
       "12051       12051  2024-03-26 00:00:00   \n",
       "12052       12052  2021-04-07 00:00:00   \n",
       "12053       12053  2021-10-25 00:00:00   \n",
       "\n",
       "                                                   title  \\\n",
       "6027   Tuesday evening news briefing: UK population c...   \n",
       "6028   Monday evening news briefing: Growth outlook i...   \n",
       "6029   Muslim model Halima Aden: ‘Not even for $10 mi...   \n",
       "6030   A GP visit has become as random as booking an ...   \n",
       "6031   Tom Hollander interview: ‘The future of theatr...   \n",
       "...                                                  ...   \n",
       "12049  Emmanuel Macron hails new era of 'ambitious co...   \n",
       "12050  Suella Braverman challenges Sunak to cut ‘unsu...   \n",
       "12051  Churches risk undermining asylum system after ...   \n",
       "12052  Exclusive: Satellite images reveal how shadowy...   \n",
       "12053  France plans 'go slow' strategy on British lor...   \n",
       "\n",
       "                                                    body     outlet  \n",
       "6027    Good evening. Net migration is on course to d...  telegraph  \n",
       "6028    Good evening. Andrew Bailey has said the outl...  telegraph  \n",
       "6029    Halima Aden, the Hijabi model who appeared on...  telegraph  \n",
       "6030    Remember the days when going to the doctors m...  telegraph  \n",
       "6031    Tom Hollander is the consummate showstealer. ...  telegraph  \n",
       "...                                                  ...        ...  \n",
       "12049   Emmanuel Macron agreed to boost joint efforts...  telegraph  \n",
       "12050   Suella Braverman will demand that Rishi Sunak...  telegraph  \n",
       "12051   Churches risk undermining the integrity of th...  telegraph  \n",
       "12052   Britain should confront Russian mercenary gro...  telegraph  \n",
       "12053   France is preparing to implement a goslow str...  telegraph  \n",
       "\n",
       "[6027 rows x 5 columns]"
      ]
     },
     "execution_count": 7,
     "metadata": {},
     "output_type": "execute_result"
    }
   ],
   "source": [
    "df_combined_new_telegraph"
   ]
  },
  {
   "cell_type": "code",
   "execution_count": 8,
   "metadata": {},
   "outputs": [
    {
     "name": "stderr",
     "output_type": "stream",
     "text": [
      "/tmp/ipykernel_3047427/935227890.py:2: SettingWithCopyWarning: \n",
      "A value is trying to be set on a copy of a slice from a DataFrame.\n",
      "Try using .loc[row_indexer,col_indexer] = value instead\n",
      "\n",
      "See the caveats in the documentation: https://pandas.pydata.org/pandas-docs/stable/user_guide/indexing.html#returning-a-view-versus-a-copy\n",
      "  df_combined_new_telegraph['date'] = pd.to_datetime(df_combined_new_telegraph['date'], errors='coerce')\n",
      "/tmp/ipykernel_3047427/935227890.py:3: SettingWithCopyWarning: \n",
      "A value is trying to be set on a copy of a slice from a DataFrame.\n",
      "Try using .loc[row_indexer,col_indexer] = value instead\n",
      "\n",
      "See the caveats in the documentation: https://pandas.pydata.org/pandas-docs/stable/user_guide/indexing.html#returning-a-view-versus-a-copy\n",
      "  df_combined_new_telegraph['date'] = df_combined_new_telegraph['date'].dt.strftime('%Y-%m-%d')\n"
     ]
    }
   ],
   "source": [
    "# Adjust dates for new\n",
    "df_combined_new_telegraph['date'] = pd.to_datetime(df_combined_new_telegraph['date'], errors='coerce')\n",
    "df_combined_new_telegraph['date'] = df_combined_new_telegraph['date'].dt.strftime('%Y-%m-%d')"
   ]
  },
  {
   "cell_type": "code",
   "execution_count": 9,
   "metadata": {},
   "outputs": [
    {
     "name": "stdout",
     "output_type": "stream",
     "text": [
      "Number of rows with NaN in 'date' column: 963\n"
     ]
    }
   ],
   "source": [
    "num_nan_dates = df_combined_new_telegraph['date'].isna().sum()\n",
    "print(f\"Number of rows with NaN in 'date' column: {num_nan_dates}\")"
   ]
  },
  {
   "cell_type": "code",
   "execution_count": 11,
   "metadata": {},
   "outputs": [
    {
     "data": {
      "text/plain": [
       "(8336, 10)"
      ]
     },
     "execution_count": 11,
     "metadata": {},
     "output_type": "execute_result"
    }
   ],
   "source": [
    "df_combined = pd.concat([df_combined_new_telegraph, df_combined_old_telegraph], ignore_index=True)\n",
    "df_combined_final_telegraph = df_combined.drop_duplicates(subset='body', keep='first')\n",
    "df_combined_final_telegraph.to_csv('df_Telegraph.csv', index=False)\n",
    "df_combined_final_telegraph.shape"
   ]
  },
  {
   "cell_type": "code",
   "execution_count": 12,
   "metadata": {},
   "outputs": [
    {
     "name": "stdout",
     "output_type": "stream",
     "text": [
      "Number of rows with NaN in 'date' column: 1134\n"
     ]
    }
   ],
   "source": [
    "num_nan_dates = df_combined_final_telegraph['date'].isna().sum()\n",
    "print(f\"Number of rows with NaN in 'date' column: {num_nan_dates}\")"
   ]
  },
  {
   "cell_type": "code",
   "execution_count": 13,
   "metadata": {},
   "outputs": [],
   "source": [
    "import re\n",
    "def clean_text(text):\n",
    "    if not isinstance(text, str):\n",
    "        return '' \n",
    "    cleaned_text = text.replace('\\n', ' ')\n",
    "    cleaned_text = re.sub(r'\\s+', ' ', cleaned_text)\n",
    "    cleaned_text = re.sub(r'[^a-zA-Z0-9\\s.,?]', '', cleaned_text)\n",
    "    return cleaned_text"
   ]
  },
  {
   "cell_type": "code",
   "execution_count": 14,
   "metadata": {},
   "outputs": [
    {
     "name": "stderr",
     "output_type": "stream",
     "text": [
      "/tmp/ipykernel_3047427/2680751308.py:2: SettingWithCopyWarning: \n",
      "A value is trying to be set on a copy of a slice from a DataFrame.\n",
      "Try using .loc[row_indexer,col_indexer] = value instead\n",
      "\n",
      "See the caveats in the documentation: https://pandas.pydata.org/pandas-docs/stable/user_guide/indexing.html#returning-a-view-versus-a-copy\n",
      "  df_Telegraph['body'] = df_Telegraph['body'].apply(clean_text)\n"
     ]
    }
   ],
   "source": [
    "df_Telegraph = df_combined_final_telegraph\n",
    "df_Telegraph['body'] = df_Telegraph['body'].apply(clean_text)"
   ]
  },
  {
   "cell_type": "code",
   "execution_count": 15,
   "metadata": {},
   "outputs": [],
   "source": [
    "df_Telegraph = df_Telegraph.sample(frac=1, random_state=42)\n",
    "df_Telegraph.to_csv('df_Telegraph_final', index=False)"
   ]
  },
  {
   "cell_type": "code",
   "execution_count": 16,
   "metadata": {},
   "outputs": [
    {
     "name": "stdout",
     "output_type": "stream",
     "text": [
      "Minimum Date: 2016-07-07T14:36:52Z\n",
      "Maximum Date: 2024-04-27T14:00:36Z\n",
      "8336\n"
     ]
    }
   ],
   "source": [
    "file_path = \"guardian_articles.csv\"\n",
    "df_guardian = pd.read_csv(file_path)\n",
    "\n",
    "# Understanding time range of data\n",
    "minimum_date = df_guardian['Date'].min()\n",
    "maximum_date = df_guardian['Date'].max()\n",
    "\n",
    "print(\"Minimum Date:\", minimum_date)\n",
    "print(\"Maximum Date:\", maximum_date)\n",
    "df_guardian.rename(columns={'Date': 'date', 'Title': 'title', 'Body': 'body'}, inplace=True)\n",
    "\n",
    "df_guardian.dropna(subset=['body'], inplace=True)\n",
    "df_guardian['body'] = df_guardian['body'].apply(clean_text)\n",
    "# Randomly shuffle the rows of the DataFrame\n",
    "df_guardian = df_guardian.sample(frac=1, random_state=42)\n",
    "df_guardian_sampled = df_guardian.sample(n=8336, random_state=42)\n",
    "print(len(df_guardian_sampled))\n",
    "\n",
    "df_guardian_sampled['outlet'] = 'guardian'\n",
    "df_Telegraph['outlet'] = 'telegraph'\n",
    "df_guardian_sampled['date'] = pd.to_datetime(df_guardian_sampled['date'], errors='coerce')"
   ]
  },
  {
   "cell_type": "code",
   "execution_count": 27,
   "metadata": {},
   "outputs": [],
   "source": [
    "df_guardian_selected = df_guardian_sampled[['date', 'title', 'body', 'outlet']]\n",
    "df_telegraph_selected = df_Telegraph[['date', 'title', 'body', 'outlet']]"
   ]
  },
  {
   "cell_type": "code",
   "execution_count": 28,
   "metadata": {},
   "outputs": [],
   "source": [
    "df_telegraph_selected.to_csv('df_telegraph_perigon')\n",
    "df_guardian_selected.to_csv('df_guardian_perigon')"
   ]
  },
  {
   "cell_type": "code",
   "execution_count": 29,
   "metadata": {},
   "outputs": [
    {
     "name": "stdout",
     "output_type": "stream",
     "text": [
      "8336\n",
      "8336\n"
     ]
    }
   ],
   "source": [
    "print(len(df_telegraph_selected))\n",
    "print(len(df_guardian_selected))"
   ]
  },
  {
   "cell_type": "code",
   "execution_count": 2,
   "metadata": {},
   "outputs": [
    {
     "name": "stdout",
     "output_type": "stream",
     "text": [
      "\u001b[33mWARNING: Skipping cupy as it is not installed.\u001b[0m\u001b[33m\n",
      "\u001b[0m\u001b[33mWARNING: Skipping cupy-cuda111 as it is not installed.\u001b[0m\u001b[33m\n",
      "\u001b[0mNote: you may need to restart the kernel to use updated packages.\n"
     ]
    }
   ],
   "source": [
    "pip uninstall cupy cupy-cuda111\n"
   ]
  },
  {
   "cell_type": "code",
   "execution_count": 3,
   "metadata": {},
   "outputs": [
    {
     "name": "stdout",
     "output_type": "stream",
     "text": [
      "Collecting cupy-cuda111\n",
      "  Downloading cupy_cuda111-12.3.0-cp310-cp310-manylinux2014_x86_64.whl.metadata (2.7 kB)\n",
      "Requirement already satisfied: numpy<1.29,>=1.20 in ./thesis/lib/python3.10/site-packages (from cupy-cuda111) (1.26.4)\n",
      "Collecting fastrlock>=0.5 (from cupy-cuda111)\n",
      "  Downloading fastrlock-0.8.2-cp310-cp310-manylinux_2_5_x86_64.manylinux1_x86_64.manylinux_2_28_x86_64.whl.metadata (9.3 kB)\n",
      "Downloading cupy_cuda111-12.3.0-cp310-cp310-manylinux2014_x86_64.whl (101.1 MB)\n",
      "\u001b[2K   \u001b[90m━━━━━━━━━━━━━━━━━━━━━━━━━━━━━━━━━━━━━━━━\u001b[0m \u001b[32m101.1/101.1 MB\u001b[0m \u001b[31m39.6 MB/s\u001b[0m eta \u001b[36m0:00:00\u001b[0m00:01\u001b[0m0:01\u001b[0mm\n",
      "\u001b[?25hDownloading fastrlock-0.8.2-cp310-cp310-manylinux_2_5_x86_64.manylinux1_x86_64.manylinux_2_28_x86_64.whl (51 kB)\n",
      "\u001b[2K   \u001b[90m━━━━━━━━━━━━━━━━━━━━━━━━━━━━━━━━━━━━━━━━\u001b[0m \u001b[32m51.3/51.3 kB\u001b[0m \u001b[31m14.3 MB/s\u001b[0m eta \u001b[36m0:00:00\u001b[0m\n",
      "\u001b[?25hInstalling collected packages: fastrlock, cupy-cuda111\n",
      "Successfully installed cupy-cuda111-12.3.0 fastrlock-0.8.2\n",
      "Note: you may need to restart the kernel to use updated packages.\n"
     ]
    }
   ],
   "source": [
    "pip install cupy-cuda111"
   ]
  },
  {
   "cell_type": "code",
   "execution_count": 30,
   "metadata": {},
   "outputs": [
    {
     "name": "stdout",
     "output_type": "stream",
     "text": [
      "16672\n"
     ]
    }
   ],
   "source": [
    "df_combined = pd.concat([df_guardian_selected, df_telegraph_selected], ignore_index=True)\n",
    "print(len(df_combined))\n",
    "\n",
    "df_combined.to_csv('df_combined_perigon_full')"
   ]
  }
 ],
 "metadata": {
  "kernelspec": {
   "display_name": "thesis",
   "language": "python",
   "name": "python3"
  },
  "language_info": {
   "codemirror_mode": {
    "name": "ipython",
    "version": 3
   },
   "file_extension": ".py",
   "mimetype": "text/x-python",
   "name": "python",
   "nbconvert_exporter": "python",
   "pygments_lexer": "ipython3",
   "version": "3.10.12"
  }
 },
 "nbformat": 4,
 "nbformat_minor": 2
}
